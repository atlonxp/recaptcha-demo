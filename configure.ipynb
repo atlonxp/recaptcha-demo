{
 "cells": [
  {
   "cell_type": "code",
   "execution_count": null,
   "metadata": {
    "collapsed": true
   },
   "outputs": [],
   "source": [
    "from configparser import ConfigParser\n",
    "from ast import literal_eval\n",
    "import pyautogui\n",
    "pyautogui.PAUSE = 2.0\n",
    "pyautogui.FAILSAFE = True\n",
    "\n",
    "# self-defined\n",
    "from utilities import imPath, getImage\n",
    "\n",
    "# FYI\n",
    "import logging\n",
    "logging.basicConfig(level=logging.INFO, format='%(asctime)s: %(message)s', datefmt='%H:%M:%S')\n",
    "#logging.disable(logging.INFO) # uncomment to block debug log messages"
   ]
  },
  {
   "cell_type": "code",
   "execution_count": 2,
   "metadata": {},
   "outputs": [
    {
     "name": "stderr",
     "output_type": "stream",
     "text": [
      "12:28:13: Reading the screenshot parameters from configure_initial.ini...\n"
     ]
    }
   ],
   "source": [
    "# Read the image parameters\n",
    "logging.info('Reading the screenshot parameters from configure_initial.ini...')\n",
    "config = ConfigParser()\n",
    "config.read('config_initial.ini')\n",
    "\n",
    "# parameters of screenshots\n",
    "# working region\n",
    "strWorkRegion = config.get('images', 'workingRegion')\n",
    "workRegion = literal_eval(strWorkRegion)\n",
    "# I am not a robot\n",
    "strRobotImg = config.get('images', 'iamnotrobot')\n",
    "robotImg = literal_eval(strRobotImg)\n",
    "# refresh\n",
    "strRefreshImg = config.get('images', 'refresh')\n",
    "refreshImg = literal_eval(strRefreshImg)\n",
    "# street sign\n",
    "strStreetImg = config.get('images', 'streetSign')\n",
    "streetImg = literal_eval(strStreetImg)\n",
    "# next\n",
    "strNextImg = config.get('images', 'next')\n",
    "nextImg = literal_eval(strNextImg)\n",
    "# verify\n",
    "strVerifyImg = config.get('images', 'verify')\n",
    "verifyImg = literal_eval(strVerifyImg)\n",
    "# image\n",
    "strImg = config.get('images', 'image')\n",
    "img = literal_eval(strImg)\n",
    "# pass\n",
    "strPassImg = config.get('images', 'pass')\n",
    "passImg = literal_eval(strPassImg)"
   ]
  },
  {
   "cell_type": "code",
   "execution_count": 3,
   "metadata": {},
   "outputs": [
    {
     "name": "stderr",
     "output_type": "stream",
     "text": [
      "12:28:14: Creating the screenshot of work region...\n"
     ]
    }
   ],
   "source": [
    "# create the image of work region\n",
    "logging.info('Creating the screenshot of work region...')\n",
    "getImage(workRegion, 'images', 'work.png')"
   ]
  },
  {
   "cell_type": "code",
   "execution_count": 4,
   "metadata": {
    "scrolled": true
   },
   "outputs": [
    {
     "name": "stderr",
     "output_type": "stream",
     "text": [
      "12:28:16: Creating the screenshot of I am not robot...\n"
     ]
    }
   ],
   "source": [
    "# create the reg image to find the checkbox of \"I am not robot\"\n",
    "logging.info('Creating the screenshot of I am not robot...')\n",
    "getImage(robotImg, 'images', 'reg.png')\n",
    "# location of checkbox of I am not robot\n",
    "robotLoc = pyautogui.locateCenterOnScreen(imPath('images', 'reg.png'))"
   ]
  },
  {
   "cell_type": "code",
   "execution_count": 5,
   "metadata": {},
   "outputs": [
    {
     "name": "stderr",
     "output_type": "stream",
     "text": [
      "12:28:23: Creating the screenshot of refresh...\n"
     ]
    }
   ],
   "source": [
    "#click I am not a robot\n",
    "pyautogui.click(robotLoc)\n",
    "# create the reg image to find the refresh \n",
    "logging.info(\"Creating the screenshot of refresh...\")\n",
    "getImage(refreshImg, 'images', 'refresh.png')\n",
    "# location of refresh\n",
    "refreshLoc = pyautogui.locateCenterOnScreen(imPath('images', 'refresh.png'))\n",
    "# add 20 in Y direction taken into accout the offset introduced by error message\n",
    "refreshLoc = (refreshLoc[0], refreshLoc[1] + 20)"
   ]
  },
  {
   "cell_type": "code",
   "execution_count": 8,
   "metadata": {},
   "outputs": [
    {
     "name": "stderr",
     "output_type": "stream",
     "text": [
      "12:31:43: Creating the screenshot of title of street sign...\n"
     ]
    }
   ],
   "source": [
    "# need to manually change it to street sign\n",
    "pyautogui.alert('Will create addressing image for street sign. Please make sure the street sign is shown')\n",
    "# create the reg image to street sign \n",
    "logging.info(\"Creating the screenshot of title of street sign...\")\n",
    "getImage(streetImg, 'images', 'ifstreet.png')"
   ]
  },
  {
   "cell_type": "code",
   "execution_count": 9,
   "metadata": {},
   "outputs": [
    {
     "name": "stderr",
     "output_type": "stream",
     "text": [
      "12:31:52: Creating the screenshot of street sign...\n"
     ]
    }
   ],
   "source": [
    "# create the screenshot of image of street signs \n",
    "logging.info(\"Creating the screenshot of street sign...\")\n",
    "getImage(img, 'data', 'payload.jpg')"
   ]
  },
  {
   "cell_type": "code",
   "execution_count": 10,
   "metadata": {},
   "outputs": [
    {
     "name": "stderr",
     "output_type": "stream",
     "text": [
      "12:32:01: Creating the screenshot of next...\n"
     ]
    }
   ],
   "source": [
    "# need to manually assistance to get next button\n",
    "pyautogui.alert('Please manually select the answers so that next button is shown')\n",
    "# create the reg image to next \n",
    "logging.info(\"Creating the screenshot of next...\")\n",
    "getImage(nextImg, 'images', 'next.png')\n",
    "# location of next\n",
    "nextLoc = pyautogui.locateCenterOnScreen(imPath('images', 'next.png'))"
   ]
  },
  {
   "cell_type": "code",
   "execution_count": 12,
   "metadata": {},
   "outputs": [
    {
     "name": "stderr",
     "output_type": "stream",
     "text": [
      "12:32:22: Creating the screenshot of verify...\n"
     ]
    }
   ],
   "source": [
    "# need to manually assistance to get verify button\n",
    "pyautogui.alert('Please manually select the answers until the verify button is shown')\n",
    "# create the reg image to verify \n",
    "logging.info(\"Creating the screenshot of verify...\")\n",
    "getImage(verifyImg, 'images', 'verify.png')\n",
    "# location of verify\n",
    "verifyLoc = pyautogui.locateCenterOnScreen(imPath('images', 'verify.png'))"
   ]
  },
  {
   "cell_type": "code",
   "execution_count": 13,
   "metadata": {},
   "outputs": [
    {
     "name": "stderr",
     "output_type": "stream",
     "text": [
      "12:32:39: Creating the screenshot of check mark...\n"
     ]
    }
   ],
   "source": [
    "# need to manually assistance to get the check mark\n",
    "pyautogui.alert('Please make sure to pass the recapcha check')\n",
    "# create the reg image to pass sign\n",
    "logging.info(\"Creating the screenshot of check mark...\")\n",
    "getImage(passImg, 'images', 'pass.png')"
   ]
  },
  {
   "cell_type": "code",
   "execution_count": null,
   "metadata": {
    "collapsed": true
   },
   "outputs": [],
   "source": [
    "# get the screen size\n",
    "screenSize = pyautogui.size() "
   ]
  },
  {
   "cell_type": "code",
   "execution_count": null,
   "metadata": {
    "collapsed": true
   },
   "outputs": [],
   "source": [
    "# convert to strings\n",
    "strRobotLoc = ','.join(map(str, robotLoc)) \n",
    "strRefreshLoc = ','.join(map(str, refreshLoc)) \n",
    "strNextLoc = ','.join(map(str, nextLoc)) \n",
    "strVerifyLoc = ','.join(map(str, verifyLoc)) \n",
    "strScreenSize = ','.join(map(str, screenSize)) "
   ]
  },
  {
   "cell_type": "code",
   "execution_count": null,
   "metadata": {},
   "outputs": [],
   "source": [
    "# save the locations into configure.ini\n",
    "logging.info(\"Saving the screenshot parameters and locations into configure.ini...\")\n",
    "config.add_section('locations')\n",
    "config.set('locations', 'screenSize', strScreenSize)\n",
    "config.set('locations', 'iamnotrobot', strRobotLoc)\n",
    "config.set('locations', 'refresh', strRefreshLoc)\n",
    "config.set('locations', 'next', strNextLoc)\n",
    "config.set('locations', 'verify', strVerifyLoc)\n",
    "\n",
    "with open('config.ini', 'w') as f:\n",
    "    config.write(f)"
   ]
  },
  {
   "cell_type": "code",
   "execution_count": null,
   "metadata": {
    "collapsed": true
   },
   "outputs": [],
   "source": []
  }
 ],
 "metadata": {
  "kernelspec": {
   "display_name": "Python 3",
   "language": "python",
   "name": "python3"
  },
  "language_info": {
   "codemirror_mode": {
    "name": "ipython",
    "version": 3
   },
   "file_extension": ".py",
   "mimetype": "text/x-python",
   "name": "python",
   "nbconvert_exporter": "python",
   "pygments_lexer": "ipython3",
   "version": "3.6.2"
  }
 },
 "nbformat": 4,
 "nbformat_minor": 2
}
