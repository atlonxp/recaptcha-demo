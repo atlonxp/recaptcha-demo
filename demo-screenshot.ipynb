{
 "cells": [
  {
   "cell_type": "code",
   "execution_count": 1,
   "metadata": {
    "collapsed": true
   },
   "outputs": [],
   "source": [
    "from configparser import ConfigParser\n",
    "from ast import literal_eval\n",
    "import pyautogui\n",
    "pyautogui.PAUSE = 2.0\n",
    "pyautogui.FAILSAFE = True\n",
    "\n",
    "# FYI\n",
    "import logging\n",
    "logging.basicConfig(level=logging.INFO, format='%(asctime)s: %(message)s', datefmt='%H:%M:%S')\n",
    "#logging.disable(logging.INFO) # uncomment to block debug log messages\n",
    "\n",
    "# to run .exe\n",
    "import subprocess\n",
    "# self-defined\n",
    "from utilities import imPath, getImage, clickImage, getIndices"
   ]
  },
  {
   "cell_type": "code",
   "execution_count": 2,
   "metadata": {},
   "outputs": [
    {
     "name": "stderr",
     "output_type": "stream",
     "text": [
      "20:15:38: Reading the configure.ini...\n"
     ]
    }
   ],
   "source": [
    "# Read the location\n",
    "logging.info('Reading the configure.ini...')\n",
    "config = ConfigParser()\n",
    "config.read('config.ini')\n",
    "\n",
    "# location of I am not a robot\n",
    "strRobotLoc = config.get('locations', 'iamnotrobot')\n",
    "robotLoc = literal_eval(strRobotLoc)\n",
    "# location of refresh\n",
    "strRefreshLoc = config.get('locations', 'refresh')\n",
    "refreshLoc = literal_eval(strRefreshLoc)\n",
    "# location of next/verify\n",
    "strNextLoc = config.get('locations', 'next')\n",
    "nextLoc = literal_eval(strNextLoc)\n",
    "\n",
    "# parameters of screenshot of street signs\n",
    "strImg = config.get('images', 'image')\n",
    "img = literal_eval(strImg)"
   ]
  },
  {
   "cell_type": "code",
   "execution_count": 29,
   "metadata": {},
   "outputs": [
    {
     "name": "stderr",
     "output_type": "stream",
     "text": [
      "20:23:15: Clicking 'I am not a robot'...\n",
      "20:23:19: Not street sign, refreshing...\n",
      "20:23:24: Not street sign, refreshing...\n"
     ]
    }
   ],
   "source": [
    "#click I am not a robot\n",
    "logging.info(\"Clicking 'I am not a robot'...\")\n",
    "pyautogui.click(robotLoc)\n",
    "# Keep refreshing if it's not street sign\n",
    "while(pyautogui.locateCenterOnScreen(imPath('images', 'ifstreet.png')) == None):\n",
    "    # click the refresh button\n",
    "    logging.info(\"Not street sign, refreshing...\")\n",
    "    pyautogui.click(refreshLoc)"
   ]
  },
  {
   "cell_type": "code",
   "execution_count": 70,
   "metadata": {},
   "outputs": [
    {
     "name": "stderr",
     "output_type": "stream",
     "text": [
      "20:29:35: Taking screenshot of streen sign...\n"
     ]
    }
   ],
   "source": [
    "# Take a screenshot of image\n",
    "logging.info(\"Taking screenshot of streen sign...\")\n",
    "getImage(img, 'data', 'payload.jpg')"
   ]
  },
  {
   "cell_type": "code",
   "execution_count": 71,
   "metadata": {},
   "outputs": [
    {
     "name": "stdout",
     "output_type": "stream",
     "text": [
      "2\n"
     ]
    }
   ],
   "source": [
    "# Call yolo to find the street sign\n",
    "subprocess.call('yolo-street-sign.exe')\n",
    "indices = getIndices('predict.txt')\n",
    "print(len(indices))"
   ]
  },
  {
   "cell_type": "code",
   "execution_count": 72,
   "metadata": {},
   "outputs": [
    {
     "name": "stderr",
     "output_type": "stream",
     "text": [
      "20:29:45: Choosing the street sign...\n"
     ]
    }
   ],
   "source": [
    "# click the streen signs based on prediciton\n",
    "logging.info(\"Choosing the street sign...\")\n",
    "clickImage(img, indices)"
   ]
  },
  {
   "cell_type": "code",
   "execution_count": 67,
   "metadata": {},
   "outputs": [
    {
     "name": "stderr",
     "output_type": "stream",
     "text": [
      "20:29:11: Next...\n"
     ]
    }
   ],
   "source": [
    "logging.info(\"Next...\")\n",
    "pyautogui.click(nextLoc)"
   ]
  },
  {
   "cell_type": "code",
   "execution_count": null,
   "metadata": {
    "collapsed": true
   },
   "outputs": [],
   "source": [
    "logging.info('Program Started. Press Ctrl-C to abort at any time.')\n",
    "logging.info('To interrupt mouse movement, move mouse to upper left corner.')\n",
    "\n",
    "while True:\n",
    "    #click I am not a robot\n",
    "    logging.info(\"Clicking 'I am not a robot'...\")\n",
    "    pyautogui.click(robotLoc)\n",
    "    while(pyautogui.locateCenterOnScreen(imPath('pass.png')) == None):\n",
    "        # Keep refreshing if it's not street sign\n",
    "        while(pyautogui.locateCenterOnScreen(imPath('ifstreet.png')) == None):\n",
    "            # click the refresh button\n",
    "            logging.info(\"Not street sign, refreshing...\")\n",
    "            pyautogui.click(refreshLoc)\n",
    "            \n",
    "        # Take a screenshot of image\n",
    "        logging.info(\"Taking screenshot of streen sign...\")        \n",
    "        getImage(imageLoc, 'payload.jpg')\n",
    "        # Call yolo to find the street sign\n",
    "        logging.info(\"Predicting...\")\n",
    "        # click the streen signs based on prediciton\n",
    "        logging.info(\"Choosing the street sign...\")\n",
    "        clickImage(imageLoc, [0,1,2,5,6])\n",
    "        logging.info(\"Next...\")\n",
    "        pyautogui.click(nextLoc)\n",
    "            \n",
    "    logging.info(\"Success!!\")\n",
    "    logging.info(\"Refreshing...\")\n",
    "    pyautogui.press('F5')\n",
    "    \n"
   ]
  },
  {
   "cell_type": "code",
   "execution_count": null,
   "metadata": {
    "collapsed": true
   },
   "outputs": [],
   "source": []
  }
 ],
 "metadata": {
  "kernelspec": {
   "display_name": "Python 3",
   "language": "python",
   "name": "python3"
  },
  "language_info": {
   "codemirror_mode": {
    "name": "ipython",
    "version": 3
   },
   "file_extension": ".py",
   "mimetype": "text/x-python",
   "name": "python",
   "nbconvert_exporter": "python",
   "pygments_lexer": "ipython3",
   "version": "3.6.1"
  }
 },
 "nbformat": 4,
 "nbformat_minor": 2
}
