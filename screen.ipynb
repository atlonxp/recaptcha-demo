{
 "cells": [
  {
   "cell_type": "code",
   "execution_count": null,
   "metadata": {
    "collapsed": true
   },
   "outputs": [],
   "source": [
    "from configparser import ConfigParser\n",
    "from ast import literal_eval\n",
    "import pyautogui\n",
    "pyautogui.PAUSE = 2.0\n",
    "pyautogui.FAILSAFE = True\n",
    "\n",
    "# FYI\n",
    "import logging\n",
    "logging.basicConfig(level=logging.INFO, format='%(asctime)s: %(message)s', datefmt='%H:%M:%S')\n",
    "#logging.disable(logging.INFO) # uncomment to block debug log messages\n",
    "\n",
    "# to run .exe\n",
    "import subprocess\n",
    "\n",
    "# to access clipboard in windows\n",
    "import win32clipboard\n",
    "# to download image\n",
    "from urllib import request\n",
    "\n",
    "# self-defined\n",
    "from utilities import imPath, getImage, clickImage, getIndices, rightClickImage"
   ]
  },
  {
   "cell_type": "code",
   "execution_count": 2,
   "metadata": {},
   "outputs": [
    {
     "name": "stderr",
     "output_type": "stream",
     "text": [
      "21:01:41: Reading the configure.ini...\n"
     ]
    }
   ],
   "source": [
    "# Read the location\n",
    "logging.info('Reading the configure.ini...')\n",
    "config = ConfigParser()\n",
    "config.read('config.ini')\n",
    "\n",
    "# location of I am not a robot\n",
    "strRobotLoc = config.get('locations', 'iamnotrobot')\n",
    "robotLoc = literal_eval(strRobotLoc)\n",
    "# location of refresh\n",
    "strRefreshLoc = config.get('locations', 'refresh')\n",
    "refreshLoc = literal_eval(strRefreshLoc)\n",
    "# location of next/verify\n",
    "strNextLoc = config.get('locations', 'next')\n",
    "nextLoc = literal_eval(strNextLoc)\n",
    "\n",
    "# parameters of screenshot of street signs\n",
    "strImg = config.get('images', 'image')\n",
    "img = literal_eval(strImg)"
   ]
  },
  {
   "cell_type": "code",
   "execution_count": 3,
   "metadata": {
    "collapsed": true
   },
   "outputs": [],
   "source": [
    "# copye image url\n",
    "rightClickImage(img)\n",
    "pyautogui.press('o')"
   ]
  },
  {
   "cell_type": "code",
   "execution_count": 4,
   "metadata": {},
   "outputs": [
    {
     "name": "stdout",
     "output_type": "stream",
     "text": [
      "https://www.google.com/recaptcha/api2/payload?c=03AHhf_50d87ujPqjd-E_kkIn2gCC1mHGjUPqSiVJYMBdkOEpTWd7MLd9Z2_V6luXl7UoMSG_B-iadWIguaBPMImLmWpS976zWZ3erNsPR9c0rjs0Qww4WUOvGPvKm7YfdW7u3G2P6DwiUm0PJYT0N83dYa2PW1D-zlyzyk3SEea3rAfhdUR1ylR2NobwtLRC36qOLsVINaGxGR7JVpPMijLUsY5WT0a-aGx1ZIIFKTuSXawGVmC-qKZqJSZNzNTypHpxdE0QufNx7opWvGMPHU3skBu-XwVvG7m_zZzPBTJKAPuOtmx2NUjvccAKRiPuBeBjtBKhXQCO1cvo3OVf8PzRk-OpxGJ4Z25kFH_sfNbO9FeKH6_P7XZG3Vw79zTrj5t7lqheuzy_pwh1qbbi2O85Fw1HHxdp_9ngu9_kiLCPK833Q293iYSU6qnwRwRyvuPMT4TbEgn2WPAi2s_mp6B0C_7JzyZqJ6cqE4In20TNyt9Toe6Tfnx4jafoOHoDKLhBG0XzGDIsacR35Bp2BnJSGXXOFRNx38Eh7B_CcejNAVRRRl9W81xIZ9R8TSYojrVUaW-RZdFrwTCHeDbAMveMbrfpT9utgfRshtUTV155ljLgaM_dMY5AiqCPOB5r5jxPTvmaQwz9D9Tvl9K-K5ENBiteo8b3yTOvNdls55Oeukw_xoki5PanQvFywfr2l-fh1APkFeam93ItVv1pNIVSIwwNoBWM9dIYOk7T9iu9YF9QSTa0Wd80y1J2jXQtoWWtyOWwtBuchG-TBDPexQD3AjTeZJBHPq4i1qJZd0AqvWi7MRKGBn1ZVkxyZHcRIjuRnolAO6ia-2qLkLg6b8gEQ46GaRzmTiXCmGzKzGPQ7p-txWZwUe6A8ukl_aU7f2f1XqlSsO6j1hevo--XUeH5t-z2N4E-MzXqHyLNIbbm_EwFSRwei9TZ_GiTVNOELVDyMhfNlz3_PpHSY6-ZHbZ1ILx57dhbA7xAHtCp44j5RJVnrg4SijjHJOCEUMmxuEB9BVpeWzDT1qZwwUHjbJqdgKQGbLFUXUyUpFUrhhV0EAN7fwxTIbHBLTq5B9yT9MY2s6QvUat3LStamNVzGDpaovLJeGIPHKrGsms5AChSD57ovnQj-xEbdb-R-HXzEkekIr10rnQDi756CpTA388vVUeroJ2COtOF88fYS-N3xXFaP1YuUA8oSaBA9vv8_lLNiu5LnXPmRwC2xyHvsj6fnPJa4dwy6314W6XytSSaSHGGxa4JzvTR6Tii-kT3_BDShcl6_DIZbda3m8I6VX0cI9SoBhz-g3c6ENqKRGNGyLsB1Qh3cFgXHYD2S_wr1bxrIBTxI_pc-3ujsPOvWkP2kSu3cqOGN5Kw2g3EQB3c5tsBr3iQQ26HiP_f910dHgSWhnbeFCu9UNJwzbTePwYin7z3HmJIt9Cpjjrr5HVy7PRUGkFedrrbcO7_PtGOhRdKVvyRlPRFdiHFausHFDeJslpOJxOilC3CkDyj8eGuU_I2VWtckP50&k=6LduxP4SAAAAAMQbayJxcseBzyOtFCCPKAqW27lW\n"
     ]
    }
   ],
   "source": [
    "# get clipboard data\n",
    "win32clipboard.OpenClipboard()\n",
    "url = win32clipboard.GetClipboardData()\n",
    "win32clipboard.CloseClipboard()\n",
    "print(url)"
   ]
  },
  {
   "cell_type": "code",
   "execution_count": 5,
   "metadata": {},
   "outputs": [
    {
     "data": {
      "text/plain": [
       "('data/payload.jpg', <http.client.HTTPMessage at 0x2931ae11400>)"
      ]
     },
     "execution_count": 5,
     "metadata": {},
     "output_type": "execute_result"
    }
   ],
   "source": [
    "# Download image\n",
    "request.urlretrieve(url, 'data/payload.jpg')"
   ]
  },
  {
   "cell_type": "code",
   "execution_count": null,
   "metadata": {
    "collapsed": true
   },
   "outputs": [],
   "source": [
    "def getStreetSign():\n",
    "    robotLoc = pyautogui.locateCenterOnScreen(imPath('reg.png'))\n",
    "    pyautogui.click(loc)\n",
    "    if (pyautogui.locateCenterOnScreen(imPath('ifstreet.png')) == None):\n",
    "        # click the refresh button\n",
    "        refreshLoc = pyautogui.locateCenterOnScreen(imPath('refresh.png'))\n",
    "        pyautogui.click(refreshLoc)\n",
    "            \n",
    "        "
   ]
  },
  {
   "cell_type": "code",
   "execution_count": null,
   "metadata": {
    "collapsed": true
   },
   "outputs": [],
   "source": [
    "getStreetSign()"
   ]
  },
  {
   "cell_type": "code",
   "execution_count": null,
   "metadata": {
    "collapsed": true
   },
   "outputs": [],
   "source": [
    "robotLoc = pyautogui.locateCenterOnScreen(imPath('reg.png'))\n",
    "print(robotLoc)"
   ]
  },
  {
   "cell_type": "code",
   "execution_count": null,
   "metadata": {
    "collapsed": true
   },
   "outputs": [],
   "source": [
    "pyautogui.click(robotLoc)"
   ]
  },
  {
   "cell_type": "code",
   "execution_count": null,
   "metadata": {
    "collapsed": true
   },
   "outputs": [],
   "source": [
    "streetLoc = pyautogui.locateCenterOnScreen(imPath('ifstreet.png'))\n",
    "print(streetLoc)"
   ]
  },
  {
   "cell_type": "code",
   "execution_count": null,
   "metadata": {
    "collapsed": true
   },
   "outputs": [],
   "source": [
    "refreshLoc = pyautogui.locateCenterOnScreen(imPath('refresh.png'))\n"
   ]
  },
  {
   "cell_type": "code",
   "execution_count": null,
   "metadata": {
    "collapsed": true
   },
   "outputs": [],
   "source": [
    "pyautogui.click(refreshLoc)"
   ]
  },
  {
   "cell_type": "code",
   "execution_count": null,
   "metadata": {
    "collapsed": true
   },
   "outputs": [],
   "source": [
    "pyautogui.alert(text='Ready to rock the reCAPTCHA?', title='Ready?', button='OK')"
   ]
  },
  {
   "cell_type": "code",
   "execution_count": null,
   "metadata": {
    "collapsed": true
   },
   "outputs": [],
   "source": [
    "def getImage(region, filename):\n",
    "    im = pyautogui.screenshot(region=region)\n",
    "    im.save(imPath(filename))\n",
    "    "
   ]
  },
  {
   "cell_type": "code",
   "execution_count": null,
   "metadata": {
    "collapsed": true
   },
   "outputs": [],
   "source": [
    "# get image\n",
    "getImage((83, 285, 485, 485), 'payload.jpg')"
   ]
  },
  {
   "cell_type": "code",
   "execution_count": null,
   "metadata": {
    "collapsed": true
   },
   "outputs": [],
   "source": [
    "screenWidth, screenHeight = pyautogui.size()\n",
    "\n",
    "# click I am not a robot\n",
    "moveToX = screenWidth / 32\n",
    "moveToY = screenHeight / 4\n",
    "pyautogui.click(moveToX, moveToY)"
   ]
  },
  {
   "cell_type": "code",
   "execution_count": null,
   "metadata": {
    "collapsed": true
   },
   "outputs": [],
   "source": [
    "im = pyautogui.screenshot(region=(20, 260, 70, 80))\n",
    "im.save(imPath('test.png'))"
   ]
  },
  {
   "cell_type": "code",
   "execution_count": null,
   "metadata": {
    "collapsed": true
   },
   "outputs": [],
   "source": [
    "loc = pyautogui.locateCenterOnScreen(imPath('ifstreet.png'))"
   ]
  },
  {
   "cell_type": "code",
   "execution_count": null,
   "metadata": {
    "collapsed": true
   },
   "outputs": [],
   "source": [
    "print(loc)"
   ]
  },
  {
   "cell_type": "code",
   "execution_count": null,
   "metadata": {
    "collapsed": true
   },
   "outputs": [],
   "source": [
    "pyautogui.click(loc)"
   ]
  },
  {
   "cell_type": "code",
   "execution_count": null,
   "metadata": {
    "collapsed": true
   },
   "outputs": [],
   "source": [
    "# create the reg image to find the checkbox of \"I am not robot\"\n",
    "im = pyautogui.screenshot(region=(70, 260, 300, 90))\n",
    "im.save(imPath('reg.png'))"
   ]
  },
  {
   "cell_type": "code",
   "execution_count": null,
   "metadata": {
    "collapsed": true
   },
   "outputs": [],
   "source": [
    "# create the reg image to find the refresh \n",
    "im = pyautogui.screenshot(region=(90, 790, 50, 50))\n",
    "im.save(imPath('refresh.png'))"
   ]
  },
  {
   "cell_type": "code",
   "execution_count": null,
   "metadata": {
    "collapsed": true
   },
   "outputs": [],
   "source": [
    "# create the reg image to street sign \n",
    "im = pyautogui.screenshot(region=(20, 180, 370, 100))\n",
    "im.save(imPath('ifstreet.png'))"
   ]
  },
  {
   "cell_type": "code",
   "execution_count": null,
   "metadata": {
    "collapsed": true
   },
   "outputs": [],
   "source": [
    "with open('predict.txt') as f:\n",
    "    content = f.readlines()\n",
    "# you may also want to remove whitespace characters like `\\n` at the end of each line\n",
    "content = [int(x.strip()) for x in content] "
   ]
  },
  {
   "cell_type": "code",
   "execution_count": null,
   "metadata": {
    "collapsed": true
   },
   "outputs": [],
   "source": [
    "print(content)"
   ]
  },
  {
   "cell_type": "code",
   "execution_count": null,
   "metadata": {
    "collapsed": true
   },
   "outputs": [],
   "source": [
    "indices = [i for i, e in enumerate(content) if e != 0]\n",
    "print(indices)"
   ]
  },
  {
   "cell_type": "code",
   "execution_count": null,
   "metadata": {
    "collapsed": true
   },
   "outputs": [],
   "source": []
  }
 ],
 "metadata": {
  "kernelspec": {
   "display_name": "Python 3",
   "language": "python",
   "name": "python3"
  },
  "language_info": {
   "codemirror_mode": {
    "name": "ipython",
    "version": 3
   },
   "file_extension": ".py",
   "mimetype": "text/x-python",
   "name": "python",
   "nbconvert_exporter": "python",
   "pygments_lexer": "ipython3",
   "version": "3.6.2"
  }
 },
 "nbformat": 4,
 "nbformat_minor": 2
}
